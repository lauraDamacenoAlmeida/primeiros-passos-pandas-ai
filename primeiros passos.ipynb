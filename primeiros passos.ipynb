{
 "cells": [
  {
   "cell_type": "markdown",
   "metadata": {},
   "source": [
    "# Analisando dados do Friends usando Pandas AI"
   ]
  },
  {
   "cell_type": "markdown",
   "metadata": {},
   "source": [
    "## Instalando dependências"
   ]
  },
  {
   "cell_type": "code",
   "execution_count": 11,
   "metadata": {},
   "outputs": [
    {
     "name": "stdout",
     "output_type": "stream",
     "text": [
      "Collecting numpy==1.26.4\n",
      "  Downloading numpy-1.26.4-cp312-cp312-macosx_11_0_arm64.whl.metadata (61 kB)\n",
      "\u001b[2K     \u001b[90m━━━━━━━━━━━━━━━━━━━━━━━━━━━━━━━━━━━━━━━━\u001b[0m \u001b[32m61.1/61.1 kB\u001b[0m \u001b[31m4.2 MB/s\u001b[0m eta \u001b[36m0:00:00\u001b[0m\n",
      "\u001b[?25hDownloading numpy-1.26.4-cp312-cp312-macosx_11_0_arm64.whl (13.7 MB)\n",
      "\u001b[2K   \u001b[90m━━━━━━━━━━━━━━━━━━━━━━━━━━━━━━━━━━━━━━━━\u001b[0m \u001b[32m13.7/13.7 MB\u001b[0m \u001b[31m9.7 MB/s\u001b[0m eta \u001b[36m0:00:00\u001b[0m00:01\u001b[0m00:01\u001b[0mm\n",
      "\u001b[?25hInstalling collected packages: numpy\n",
      "  Attempting uninstall: numpy\n",
      "    Found existing installation: numpy 2.1.3\n",
      "    Uninstalling numpy-2.1.3:\n",
      "      Successfully uninstalled numpy-2.1.3\n",
      "Successfully installed numpy-1.26.4\n",
      "\n",
      "\u001b[1m[\u001b[0m\u001b[34;49mnotice\u001b[0m\u001b[1;39;49m]\u001b[0m\u001b[39;49m A new release of pip is available: \u001b[0m\u001b[31;49m24.0\u001b[0m\u001b[39;49m -> \u001b[0m\u001b[32;49m24.3.1\u001b[0m\n",
      "\u001b[1m[\u001b[0m\u001b[34;49mnotice\u001b[0m\u001b[1;39;49m]\u001b[0m\u001b[39;49m To update, run: \u001b[0m\u001b[32;49mpip install --upgrade pip\u001b[0m\n"
     ]
    }
   ],
   "source": [
    "!pip install numpy==1.26.4"
   ]
  },
  {
   "cell_type": "code",
   "execution_count": 6,
   "metadata": {},
   "outputs": [
    {
     "name": "stdout",
     "output_type": "stream",
     "text": [
      "Collecting pyyaml\n",
      "  Downloading PyYAML-6.0.2-cp312-cp312-macosx_11_0_arm64.whl.metadata (2.1 kB)\n",
      "Downloading PyYAML-6.0.2-cp312-cp312-macosx_11_0_arm64.whl (173 kB)\n",
      "\u001b[2K   \u001b[90m━━━━━━━━━━━━━━━━━━━━━━━━━━━━━━━━━━━━━━━━\u001b[0m \u001b[32m173.3/173.3 kB\u001b[0m \u001b[31m4.3 MB/s\u001b[0m eta \u001b[36m0:00:00\u001b[0ma \u001b[36m0:00:01\u001b[0m\n",
      "\u001b[?25hInstalling collected packages: pyyaml\n",
      "Successfully installed pyyaml-6.0.2\n",
      "\n",
      "\u001b[1m[\u001b[0m\u001b[34;49mnotice\u001b[0m\u001b[1;39;49m]\u001b[0m\u001b[39;49m A new release of pip is available: \u001b[0m\u001b[31;49m24.0\u001b[0m\u001b[39;49m -> \u001b[0m\u001b[32;49m24.3.1\u001b[0m\n",
      "\u001b[1m[\u001b[0m\u001b[34;49mnotice\u001b[0m\u001b[1;39;49m]\u001b[0m\u001b[39;49m To update, run: \u001b[0m\u001b[32;49mpip install --upgrade pip\u001b[0m\n"
     ]
    }
   ],
   "source": [
    "!pip install pyyaml"
   ]
  },
  {
   "cell_type": "markdown",
   "metadata": {},
   "source": [
    "## Importanto bibliotecas"
   ]
  },
  {
   "cell_type": "code",
   "execution_count": 13,
   "metadata": {},
   "outputs": [],
   "source": [
    "import os\n",
    "import pandas as pd\n",
    "from pandasai import Agent\n",
    "import json\n",
    "\n"
   ]
  },
  {
   "cell_type": "markdown",
   "metadata": {},
   "source": [
    "## Lendo conjunto de dados do Friends"
   ]
  },
  {
   "cell_type": "code",
   "execution_count": 8,
   "metadata": {},
   "outputs": [],
   "source": [
    "df_info = pd.read_csv('data/friends_info.csv')"
   ]
  },
  {
   "cell_type": "code",
   "execution_count": 9,
   "metadata": {},
   "outputs": [
    {
     "data": {
      "text/plain": [
       "Index(['Unnamed: 0', 'season', 'episode', 'title', 'directed_by', 'written_by',\n",
       "       'air_date', 'us_views_millions', 'imdb_rating'],\n",
       "      dtype='object')"
      ]
     },
     "execution_count": 9,
     "metadata": {},
     "output_type": "execute_result"
    }
   ],
   "source": [
    "df_info.columns"
   ]
  },
  {
   "cell_type": "code",
   "execution_count": 30,
   "metadata": {},
   "outputs": [
    {
     "data": {
      "text/plain": [
       "(236, 9)"
      ]
     },
     "execution_count": 30,
     "metadata": {},
     "output_type": "execute_result"
    }
   ],
   "source": [
    "df_info.shape"
   ]
  },
  {
   "cell_type": "markdown",
   "metadata": {},
   "source": [
    "## Configurando o Pandas AI"
   ]
  },
  {
   "cell_type": "code",
   "execution_count": 14,
   "metadata": {},
   "outputs": [],
   "source": [
    "def load_config(file_path=\"config.json\"):\n",
    "    \"\"\"\n",
    "    Lê o arquivo config.json e retorna o conteúdo como um dicionário.\n",
    "    \"\"\"\n",
    "    try:\n",
    "        # Verifica se o arquivo existe\n",
    "        if not os.path.exists(file_path):\n",
    "            raise FileNotFoundError(f\"O arquivo '{file_path}' não foi encontrado.\")\n",
    "\n",
    "        # Abre e carrega o conteúdo do arquivo JSON\n",
    "        with open(file_path, 'r') as file:\n",
    "            config = json.load(file)\n",
    "        \n",
    "        return config\n",
    "\n",
    "    except json.JSONDecodeError as e:\n",
    "        raise ValueError(f\"Erro ao decodificar o arquivo JSON: {e}\")\n",
    "    except Exception as e:\n",
    "        raise RuntimeError(f\"Erro ao carregar a configuração: {e}\")"
   ]
  },
  {
   "cell_type": "code",
   "execution_count": 15,
   "metadata": {},
   "outputs": [],
   "source": [
    "config = load_config()\n",
    "api_key = config.get(\"PANDASAI_API_KEY\")"
   ]
  },
  {
   "cell_type": "code",
   "execution_count": 16,
   "metadata": {},
   "outputs": [],
   "source": [
    "os.environ[\"PANDASAI_API_KEY\"] = api_key\n"
   ]
  },
  {
   "cell_type": "markdown",
   "metadata": {},
   "source": [
    "## Explorando as informações dos episódios de Friends usando Pandas AI"
   ]
  },
  {
   "cell_type": "code",
   "execution_count": 18,
   "metadata": {},
   "outputs": [
    {
     "data": {
      "text/plain": [
       "\"The episode with the highest IMDB rating is 'The One Where Everybody Finds Out' with a rating of 9.7.\""
      ]
     },
     "execution_count": 18,
     "metadata": {},
     "output_type": "execute_result"
    }
   ],
   "source": [
    "agent = Agent(df_info)\n",
    "agent.chat('Wich episode have the higher IMDB score?')\n"
   ]
  },
  {
   "cell_type": "code",
   "execution_count": 19,
   "metadata": {},
   "outputs": [
    {
     "data": {
      "text/plain": [
       "9.7"
      ]
     },
     "execution_count": 19,
     "metadata": {},
     "output_type": "execute_result"
    }
   ],
   "source": [
    "df_info['imdb_rating'].max()"
   ]
  },
  {
   "cell_type": "code",
   "execution_count": 20,
   "metadata": {},
   "outputs": [
    {
     "data": {
      "text/html": [
       "<div>\n",
       "<style scoped>\n",
       "    .dataframe tbody tr th:only-of-type {\n",
       "        vertical-align: middle;\n",
       "    }\n",
       "\n",
       "    .dataframe tbody tr th {\n",
       "        vertical-align: top;\n",
       "    }\n",
       "\n",
       "    .dataframe thead th {\n",
       "        text-align: right;\n",
       "    }\n",
       "</style>\n",
       "<table border=\"1\" class=\"dataframe\">\n",
       "  <thead>\n",
       "    <tr style=\"text-align: right;\">\n",
       "      <th></th>\n",
       "      <th>Unnamed: 0</th>\n",
       "      <th>season</th>\n",
       "      <th>episode</th>\n",
       "      <th>title</th>\n",
       "      <th>directed_by</th>\n",
       "      <th>written_by</th>\n",
       "      <th>air_date</th>\n",
       "      <th>us_views_millions</th>\n",
       "      <th>imdb_rating</th>\n",
       "    </tr>\n",
       "  </thead>\n",
       "  <tbody>\n",
       "    <tr>\n",
       "      <th>110</th>\n",
       "      <td>111</td>\n",
       "      <td>5</td>\n",
       "      <td>14</td>\n",
       "      <td>The One Where Everybody Finds Out</td>\n",
       "      <td>Michael Lembeck</td>\n",
       "      <td>Alexa Junge</td>\n",
       "      <td>1999-02-11</td>\n",
       "      <td>27.70</td>\n",
       "      <td>9.7</td>\n",
       "    </tr>\n",
       "    <tr>\n",
       "      <th>234</th>\n",
       "      <td>235</td>\n",
       "      <td>10</td>\n",
       "      <td>17</td>\n",
       "      <td>The Last One</td>\n",
       "      <td>Kevin S. Bright</td>\n",
       "      <td>Marta Kauffman &amp; David Crane</td>\n",
       "      <td>2004-05-06</td>\n",
       "      <td>52.46</td>\n",
       "      <td>9.7</td>\n",
       "    </tr>\n",
       "    <tr>\n",
       "      <th>235</th>\n",
       "      <td>236</td>\n",
       "      <td>10</td>\n",
       "      <td>18</td>\n",
       "      <td>The Last One</td>\n",
       "      <td>Kevin S. Bright</td>\n",
       "      <td>Marta Kauffman &amp; David Crane</td>\n",
       "      <td>2004-05-06</td>\n",
       "      <td>52.46</td>\n",
       "      <td>9.7</td>\n",
       "    </tr>\n",
       "  </tbody>\n",
       "</table>\n",
       "</div>"
      ],
      "text/plain": [
       "     Unnamed: 0  season  episode                              title  \\\n",
       "110         111       5       14  The One Where Everybody Finds Out   \n",
       "234         235      10       17                       The Last One   \n",
       "235         236      10       18                       The Last One   \n",
       "\n",
       "         directed_by                    written_by    air_date  \\\n",
       "110  Michael Lembeck                   Alexa Junge  1999-02-11   \n",
       "234  Kevin S. Bright  Marta Kauffman & David Crane  2004-05-06   \n",
       "235  Kevin S. Bright  Marta Kauffman & David Crane  2004-05-06   \n",
       "\n",
       "     us_views_millions  imdb_rating  \n",
       "110              27.70          9.7  \n",
       "234              52.46          9.7  \n",
       "235              52.46          9.7  "
      ]
     },
     "execution_count": 20,
     "metadata": {},
     "output_type": "execute_result"
    }
   ],
   "source": [
    "df_info[df_info['imdb_rating'].max()==df_info['imdb_rating']]"
   ]
  },
  {
   "cell_type": "code",
   "execution_count": 21,
   "metadata": {},
   "outputs": [
    {
     "data": {
      "text/html": [
       "<div>\n",
       "<style scoped>\n",
       "    .dataframe tbody tr th:only-of-type {\n",
       "        vertical-align: middle;\n",
       "    }\n",
       "\n",
       "    .dataframe tbody tr th {\n",
       "        vertical-align: top;\n",
       "    }\n",
       "\n",
       "    .dataframe thead th {\n",
       "        text-align: right;\n",
       "    }\n",
       "</style>\n",
       "<table border=\"1\" class=\"dataframe\">\n",
       "  <thead>\n",
       "    <tr style=\"text-align: right;\">\n",
       "      <th></th>\n",
       "      <th>Unnamed: 0</th>\n",
       "      <th>season</th>\n",
       "      <th>episode</th>\n",
       "      <th>title</th>\n",
       "      <th>directed_by</th>\n",
       "      <th>written_by</th>\n",
       "      <th>air_date</th>\n",
       "      <th>us_views_millions</th>\n",
       "      <th>imdb_rating</th>\n",
       "    </tr>\n",
       "  </thead>\n",
       "  <tbody>\n",
       "    <tr>\n",
       "      <th>110</th>\n",
       "      <td>111</td>\n",
       "      <td>5</td>\n",
       "      <td>14</td>\n",
       "      <td>The One Where Everybody Finds Out</td>\n",
       "      <td>Michael Lembeck</td>\n",
       "      <td>Alexa Junge</td>\n",
       "      <td>1999-02-11</td>\n",
       "      <td>27.70</td>\n",
       "      <td>9.7</td>\n",
       "    </tr>\n",
       "    <tr>\n",
       "      <th>234</th>\n",
       "      <td>235</td>\n",
       "      <td>10</td>\n",
       "      <td>17</td>\n",
       "      <td>The Last One</td>\n",
       "      <td>Kevin S. Bright</td>\n",
       "      <td>Marta Kauffman &amp; David Crane</td>\n",
       "      <td>2004-05-06</td>\n",
       "      <td>52.46</td>\n",
       "      <td>9.7</td>\n",
       "    </tr>\n",
       "    <tr>\n",
       "      <th>235</th>\n",
       "      <td>236</td>\n",
       "      <td>10</td>\n",
       "      <td>18</td>\n",
       "      <td>The Last One</td>\n",
       "      <td>Kevin S. Bright</td>\n",
       "      <td>Marta Kauffman &amp; David Crane</td>\n",
       "      <td>2004-05-06</td>\n",
       "      <td>52.46</td>\n",
       "      <td>9.7</td>\n",
       "    </tr>\n",
       "  </tbody>\n",
       "</table>\n",
       "</div>"
      ],
      "text/plain": [
       "     Unnamed: 0  season  episode                              title  \\\n",
       "110         111       5       14  The One Where Everybody Finds Out   \n",
       "234         235      10       17                       The Last One   \n",
       "235         236      10       18                       The Last One   \n",
       "\n",
       "         directed_by                    written_by    air_date  \\\n",
       "110  Michael Lembeck                   Alexa Junge  1999-02-11   \n",
       "234  Kevin S. Bright  Marta Kauffman & David Crane  2004-05-06   \n",
       "235  Kevin S. Bright  Marta Kauffman & David Crane  2004-05-06   \n",
       "\n",
       "     us_views_millions  imdb_rating  \n",
       "110              27.70          9.7  \n",
       "234              52.46          9.7  \n",
       "235              52.46          9.7  "
      ]
     },
     "execution_count": 21,
     "metadata": {},
     "output_type": "execute_result"
    }
   ],
   "source": [
    "agent.chat('Wich episodes has the higher IMDB score?')\n"
   ]
  },
  {
   "cell_type": "code",
   "execution_count": 22,
   "metadata": {},
   "outputs": [
    {
     "data": {
      "text/html": [
       "<div>\n",
       "<style scoped>\n",
       "    .dataframe tbody tr th:only-of-type {\n",
       "        vertical-align: middle;\n",
       "    }\n",
       "\n",
       "    .dataframe tbody tr th {\n",
       "        vertical-align: top;\n",
       "    }\n",
       "\n",
       "    .dataframe thead th {\n",
       "        text-align: right;\n",
       "    }\n",
       "</style>\n",
       "<table border=\"1\" class=\"dataframe\">\n",
       "  <thead>\n",
       "    <tr style=\"text-align: right;\">\n",
       "      <th></th>\n",
       "      <th>season</th>\n",
       "      <th>episode</th>\n",
       "      <th>title</th>\n",
       "      <th>directed_by</th>\n",
       "      <th>written_by</th>\n",
       "      <th>air_date</th>\n",
       "      <th>us_views_millions</th>\n",
       "      <th>imdb_rating</th>\n",
       "    </tr>\n",
       "  </thead>\n",
       "  <tbody>\n",
       "    <tr>\n",
       "      <th>2</th>\n",
       "      <td>7</td>\n",
       "      <td>2</td>\n",
       "      <td>The One Where Rachel's Sister Babysits</td>\n",
       "      <td>Thomas Schlamme</td>\n",
       "      <td>Gregory S. MalinsMarta Kauffman &amp; David Crane</td>\n",
       "      <td>2002-05-02</td>\n",
       "      <td>25.53</td>\n",
       "      <td>9.5</td>\n",
       "    </tr>\n",
       "  </tbody>\n",
       "</table>\n",
       "</div>"
      ],
      "text/plain": [
       "   season  episode                                   title      directed_by  \\\n",
       "2       7        2  The One Where Rachel's Sister Babysits  Thomas Schlamme   \n",
       "\n",
       "                                      written_by    air_date  \\\n",
       "2  Gregory S. MalinsMarta Kauffman & David Crane  2002-05-02   \n",
       "\n",
       "   us_views_millions  imdb_rating  \n",
       "2              25.53          9.5  "
      ]
     },
     "execution_count": 22,
     "metadata": {},
     "output_type": "execute_result"
    }
   ],
   "source": [
    "agent.chat('Quais episódios tiveram melhor avaliação IMDB?')\n"
   ]
  },
  {
   "cell_type": "code",
   "execution_count": 29,
   "metadata": {},
   "outputs": [
    {
     "name": "stderr",
     "output_type": "stream",
     "text": [
      "Traceback (most recent call last):\n",
      "  File \"/Users/lauradamaceno/Documents/Pandas AI/env_pandas_ai/lib/python3.12/site-packages/pandasai/pipelines/chat/generate_chat_pipeline.py\", line 335, in run\n",
      "    ).run(input)\n",
      "      ^^^^^^^^^^\n",
      "  File \"/Users/lauradamaceno/Documents/Pandas AI/env_pandas_ai/lib/python3.12/site-packages/pandasai/pipelines/pipeline.py\", line 137, in run\n",
      "    raise e\n",
      "  File \"/Users/lauradamaceno/Documents/Pandas AI/env_pandas_ai/lib/python3.12/site-packages/pandasai/pipelines/pipeline.py\", line 101, in run\n",
      "    step_output = logic.execute(\n",
      "                  ^^^^^^^^^^^^^^\n",
      "  File \"/Users/lauradamaceno/Documents/Pandas AI/env_pandas_ai/lib/python3.12/site-packages/pandasai/pipelines/chat/code_execution.py\", line 113, in execute\n",
      "    raise e\n",
      "  File \"/Users/lauradamaceno/Documents/Pandas AI/env_pandas_ai/lib/python3.12/site-packages/pandasai/pipelines/chat/code_execution.py\", line 85, in execute\n",
      "    result = self.execute_code(code_to_run, code_context)\n",
      "             ^^^^^^^^^^^^^^^^^^^^^^^^^^^^^^^^^^^^^^^^^^^^\n",
      "  File \"/Users/lauradamaceno/Documents/Pandas AI/env_pandas_ai/lib/python3.12/site-packages/pandasai/pipelines/chat/code_execution.py\", line 171, in execute_code\n",
      "    exec(code, environment)\n",
      "  File \"<string>\", line 6, in <module>\n",
      "  File \"/Users/lauradamaceno/Documents/Pandas AI/env_pandas_ai/lib/python3.12/site-packages/pandasai/safe_libs/base_restricted_module.py\", line 10, in wrapper\n",
      "    raise SecurityError(\n",
      "pandasai.safe_libs.base_restricted_module.SecurityError: Potential security risk: 'US Views (millions)' is not allowed\n"
     ]
    },
    {
     "data": {
      "text/plain": [
       "\"Unfortunately, I was not able to answer your question, because of the following error:\\n\\nPotential security risk: 'US Views (millions)' is not allowed\\n\""
      ]
     },
     "execution_count": 29,
     "metadata": {},
     "output_type": "execute_result"
    },
    {
     "data": {
      "image/png": "[encoded data removed]",
      "text/plain": [
       "<Figure size 1000x600 with 1 Axes>"
      ]
     },
     "metadata": {},
     "output_type": "display_data"
    },
    {
     "data": {
      "image/png": "[encoded data removed]",
      "text/plain": [
       "<Figure size 1000x600 with 1 Axes>"
      ]
     },
     "metadata": {},
     "output_type": "display_data"
    },
    {
     "data": {
      "image/png": "[encoded data removed]",
      "text/plain": [
       "<Figure size 1000x600 with 1 Axes>"
      ]
     },
     "metadata": {},
     "output_type": "display_data"
    },
    {
     "data": {
      "image/png": "[encoded data removed]",
      "text/plain": [
       "<Figure size 1000x600 with 1 Axes>"
      ]
     },
     "metadata": {},
     "output_type": "display_data"
    }
   ],
   "source": [
    "agent.chat('Plot the histogram of us_views_millions')\n"
   ]
  },
  {
   "cell_type": "code",
   "execution_count": 31,
   "metadata": {},
   "outputs": [
    {
     "data": {
      "image/png": "[encoded data removed]",
      "text/plain": [
       "<Figure size 1000x600 with 1 Axes>"
      ]
     },
     "metadata": {},
     "output_type": "display_data"
    },
    {
     "data": {
      "image/png": "[encoded data removed]",
      "text/plain": [
       "<Figure size 1000x600 with 1 Axes>"
      ]
     },
     "metadata": {},
     "output_type": "display_data"
    },
    {
     "data": {
      "image/png": "[encoded data removed]",
      "text/plain": [
       "<Figure size 1000x600 with 1 Axes>"
      ]
     },
     "metadata": {},
     "output_type": "display_data"
    },
    {
     "name": "stderr",
     "output_type": "stream",
     "text": [
      "Traceback (most recent call last):\n",
      "  File \"/Users/lauradamaceno/Documents/Pandas AI/env_pandas_ai/lib/python3.12/site-packages/pandasai/pipelines/chat/generate_chat_pipeline.py\", line 335, in run\n",
      "    ).run(input)\n",
      "      ^^^^^^^^^^\n",
      "  File \"/Users/lauradamaceno/Documents/Pandas AI/env_pandas_ai/lib/python3.12/site-packages/pandasai/pipelines/pipeline.py\", line 137, in run\n",
      "    raise e\n",
      "  File \"/Users/lauradamaceno/Documents/Pandas AI/env_pandas_ai/lib/python3.12/site-packages/pandasai/pipelines/pipeline.py\", line 101, in run\n",
      "    step_output = logic.execute(\n",
      "                  ^^^^^^^^^^^^^^\n",
      "  File \"/Users/lauradamaceno/Documents/Pandas AI/env_pandas_ai/lib/python3.12/site-packages/pandasai/pipelines/chat/code_execution.py\", line 113, in execute\n",
      "    raise e\n",
      "  File \"/Users/lauradamaceno/Documents/Pandas AI/env_pandas_ai/lib/python3.12/site-packages/pandasai/pipelines/chat/code_execution.py\", line 85, in execute\n",
      "    result = self.execute_code(code_to_run, code_context)\n",
      "             ^^^^^^^^^^^^^^^^^^^^^^^^^^^^^^^^^^^^^^^^^^^^\n",
      "  File \"/Users/lauradamaceno/Documents/Pandas AI/env_pandas_ai/lib/python3.12/site-packages/pandasai/pipelines/chat/code_execution.py\", line 175, in execute_code\n",
      "    raise NoResultFoundError(\"No result returned\")\n",
      "pandasai.exceptions.NoResultFoundError: No result returned\n"
     ]
    },
    {
     "data": {
      "text/plain": [
       "'Unfortunately, I was not able to answer your question, because of the following error:\\n\\nNo result returned\\n'"
      ]
     },
     "execution_count": 31,
     "metadata": {},
     "output_type": "execute_result"
    }
   ],
   "source": [
    "agent.chat('Wich episodes has the lowest IMDB score?')\n"
   ]
  },
  {
   "cell_type": "code",
   "execution_count": 35,
   "metadata": {},
   "outputs": [
    {
     "data": {
      "text/html": [
       "<div>\n",
       "<style scoped>\n",
       "    .dataframe tbody tr th:only-of-type {\n",
       "        vertical-align: middle;\n",
       "    }\n",
       "\n",
       "    .dataframe tbody tr th {\n",
       "        vertical-align: top;\n",
       "    }\n",
       "\n",
       "    .dataframe thead th {\n",
       "        text-align: right;\n",
       "    }\n",
       "</style>\n",
       "<table border=\"1\" class=\"dataframe\">\n",
       "  <thead>\n",
       "    <tr style=\"text-align: right;\">\n",
       "      <th></th>\n",
       "      <th>season</th>\n",
       "      <th>episode</th>\n",
       "      <th>title</th>\n",
       "      <th>directed_by</th>\n",
       "      <th>written_by</th>\n",
       "      <th>air_date</th>\n",
       "      <th>us_views_millions</th>\n",
       "      <th>imdb_rating</th>\n",
       "    </tr>\n",
       "  </thead>\n",
       "  <tbody>\n",
       "    <tr>\n",
       "      <th>0</th>\n",
       "      <td>5</td>\n",
       "      <td>14</td>\n",
       "      <td>The One with Two Parts: Part 1</td>\n",
       "      <td>Ben Weiss</td>\n",
       "      <td>Story by : Robert CarlockTeleplay by : Brian B...</td>\n",
       "      <td>1999-02-25</td>\n",
       "      <td>19.03</td>\n",
       "      <td>8.0</td>\n",
       "    </tr>\n",
       "  </tbody>\n",
       "</table>\n",
       "</div>"
      ],
      "text/plain": [
       "   season  episode                           title directed_by  \\\n",
       "0       5       14  The One with Two Parts: Part 1   Ben Weiss   \n",
       "\n",
       "                                          written_by    air_date  \\\n",
       "0  Story by : Robert CarlockTeleplay by : Brian B...  1999-02-25   \n",
       "\n",
       "   us_views_millions  imdb_rating  \n",
       "0              19.03          8.0  "
      ]
     },
     "execution_count": 35,
     "metadata": {},
     "output_type": "execute_result"
    }
   ],
   "source": [
    "agent.chat('Wich episodes has the lowest IMDB score? return in dataframe')\n"
   ]
  },
  {
   "cell_type": "code",
   "execution_count": 33,
   "metadata": {},
   "outputs": [
    {
     "data": {
      "text/html": [
       "<div>\n",
       "<style scoped>\n",
       "    .dataframe tbody tr th:only-of-type {\n",
       "        vertical-align: middle;\n",
       "    }\n",
       "\n",
       "    .dataframe tbody tr th {\n",
       "        vertical-align: top;\n",
       "    }\n",
       "\n",
       "    .dataframe thead th {\n",
       "        text-align: right;\n",
       "    }\n",
       "</style>\n",
       "<table border=\"1\" class=\"dataframe\">\n",
       "  <thead>\n",
       "    <tr style=\"text-align: right;\">\n",
       "      <th></th>\n",
       "      <th>Unnamed: 0</th>\n",
       "      <th>season</th>\n",
       "      <th>episode</th>\n",
       "      <th>title</th>\n",
       "      <th>directed_by</th>\n",
       "      <th>written_by</th>\n",
       "      <th>air_date</th>\n",
       "      <th>us_views_millions</th>\n",
       "      <th>imdb_rating</th>\n",
       "    </tr>\n",
       "  </thead>\n",
       "  <tbody>\n",
       "    <tr>\n",
       "      <th>93</th>\n",
       "      <td>94</td>\n",
       "      <td>4</td>\n",
       "      <td>21</td>\n",
       "      <td>The One with the Invitation</td>\n",
       "      <td>Peter Bonerz</td>\n",
       "      <td>Seth Kurland</td>\n",
       "      <td>1998-04-23</td>\n",
       "      <td>21.5</td>\n",
       "      <td>7.2</td>\n",
       "    </tr>\n",
       "  </tbody>\n",
       "</table>\n",
       "</div>"
      ],
      "text/plain": [
       "    Unnamed: 0  season  episode                        title   directed_by  \\\n",
       "93          94       4       21  The One with the Invitation  Peter Bonerz   \n",
       "\n",
       "      written_by    air_date  us_views_millions  imdb_rating  \n",
       "93  Seth Kurland  1998-04-23               21.5          7.2  "
      ]
     },
     "execution_count": 33,
     "metadata": {},
     "output_type": "execute_result"
    }
   ],
   "source": [
    "df_info[df_info['imdb_rating'].min()==df_info['imdb_rating']]"
   ]
  },
  {
   "cell_type": "code",
   "execution_count": 34,
   "metadata": {},
   "outputs": [
    {
     "data": {
      "text/html": [
       "<div>\n",
       "<style scoped>\n",
       "    .dataframe tbody tr th:only-of-type {\n",
       "        vertical-align: middle;\n",
       "    }\n",
       "\n",
       "    .dataframe tbody tr th {\n",
       "        vertical-align: top;\n",
       "    }\n",
       "\n",
       "    .dataframe thead th {\n",
       "        text-align: right;\n",
       "    }\n",
       "</style>\n",
       "<table border=\"1\" class=\"dataframe\">\n",
       "  <thead>\n",
       "    <tr style=\"text-align: right;\">\n",
       "      <th></th>\n",
       "      <th>season</th>\n",
       "      <th>episode</th>\n",
       "      <th>title</th>\n",
       "      <th>imdb_rating</th>\n",
       "    </tr>\n",
       "  </thead>\n",
       "  <tbody>\n",
       "    <tr>\n",
       "      <th>93</th>\n",
       "      <td>4</td>\n",
       "      <td>21</td>\n",
       "      <td>The One with the Invitation</td>\n",
       "      <td>7.2</td>\n",
       "    </tr>\n",
       "    <tr>\n",
       "      <th>140</th>\n",
       "      <td>6</td>\n",
       "      <td>20</td>\n",
       "      <td>The One with Mac and C.H.E.E.S.E.</td>\n",
       "      <td>7.4</td>\n",
       "    </tr>\n",
       "    <tr>\n",
       "      <th>166</th>\n",
       "      <td>7</td>\n",
       "      <td>21</td>\n",
       "      <td>The One with the Vows</td>\n",
       "      <td>7.5</td>\n",
       "    </tr>\n",
       "  </tbody>\n",
       "</table>\n",
       "</div>"
      ],
      "text/plain": [
       "     season  episode                              title  imdb_rating\n",
       "93        4       21        The One with the Invitation          7.2\n",
       "140       6       20  The One with Mac and C.H.E.E.S.E.          7.4\n",
       "166       7       21              The One with the Vows          7.5"
      ]
     },
     "execution_count": 34,
     "metadata": {},
     "output_type": "execute_result"
    }
   ],
   "source": [
    "agent.chat('Wich episodes has the lowest IMDB score?')\n"
   ]
  },
  {
   "cell_type": "code",
   "execution_count": 46,
   "metadata": {},
   "outputs": [
    {
     "data": {
      "text/html": [
       "<div>\n",
       "<style scoped>\n",
       "    .dataframe tbody tr th:only-of-type {\n",
       "        vertical-align: middle;\n",
       "    }\n",
       "\n",
       "    .dataframe tbody tr th {\n",
       "        vertical-align: top;\n",
       "    }\n",
       "\n",
       "    .dataframe thead th {\n",
       "        text-align: right;\n",
       "    }\n",
       "</style>\n",
       "<table border=\"1\" class=\"dataframe\">\n",
       "  <thead>\n",
       "    <tr style=\"text-align: right;\">\n",
       "      <th></th>\n",
       "      <th>mean</th>\n",
       "      <th>count</th>\n",
       "    </tr>\n",
       "    <tr>\n",
       "      <th>directed_by</th>\n",
       "      <th></th>\n",
       "      <th></th>\n",
       "    </tr>\n",
       "  </thead>\n",
       "  <tbody>\n",
       "    <tr>\n",
       "      <th>Mary Kay Place</th>\n",
       "      <td>32.900000</td>\n",
       "      <td>1</td>\n",
       "    </tr>\n",
       "    <tr>\n",
       "      <th>Thomas Schlamme</th>\n",
       "      <td>31.900000</td>\n",
       "      <td>2</td>\n",
       "    </tr>\n",
       "    <tr>\n",
       "      <th>Michael Lembeck</th>\n",
       "      <td>29.151250</td>\n",
       "      <td>24</td>\n",
       "    </tr>\n",
       "    <tr>\n",
       "      <th>Ellen Gittelsohn</th>\n",
       "      <td>28.300000</td>\n",
       "      <td>1</td>\n",
       "    </tr>\n",
       "    <tr>\n",
       "      <th>Robby Benson</th>\n",
       "      <td>27.933333</td>\n",
       "      <td>6</td>\n",
       "    </tr>\n",
       "  </tbody>\n",
       "</table>\n",
       "</div>"
      ],
      "text/plain": [
       "                       mean  count\n",
       "directed_by                       \n",
       "Mary Kay Place    32.900000      1\n",
       "Thomas Schlamme   31.900000      2\n",
       "Michael Lembeck   29.151250     24\n",
       "Ellen Gittelsohn  28.300000      1\n",
       "Robby Benson      27.933333      6"
      ]
     },
     "execution_count": 46,
     "metadata": {},
     "output_type": "execute_result"
    }
   ],
   "source": [
    "agent.chat('Wich 5 directors has the higher us_views_millions? And showed me the mean us_views_millions and count the quantity of episodes by these directors')\n"
   ]
  },
  {
   "cell_type": "code",
   "execution_count": 49,
   "metadata": {},
   "outputs": [
    {
     "data": {
      "text/html": [
       "<div>\n",
       "<style scoped>\n",
       "    .dataframe tbody tr th:only-of-type {\n",
       "        vertical-align: middle;\n",
       "    }\n",
       "\n",
       "    .dataframe tbody tr th {\n",
       "        vertical-align: top;\n",
       "    }\n",
       "\n",
       "    .dataframe thead th {\n",
       "        text-align: right;\n",
       "    }\n",
       "</style>\n",
       "<table border=\"1\" class=\"dataframe\">\n",
       "  <thead>\n",
       "    <tr style=\"text-align: right;\">\n",
       "      <th></th>\n",
       "      <th>season</th>\n",
       "      <th>episode</th>\n",
       "      <th>title</th>\n",
       "    </tr>\n",
       "  </thead>\n",
       "  <tbody>\n",
       "    <tr>\n",
       "      <th>31</th>\n",
       "      <td>2</td>\n",
       "      <td>8</td>\n",
       "      <td>The One with the List</td>\n",
       "    </tr>\n",
       "  </tbody>\n",
       "</table>\n",
       "</div>"
      ],
      "text/plain": [
       "    season  episode                  title\n",
       "31       2        8  The One with the List"
      ]
     },
     "execution_count": 49,
     "metadata": {},
     "output_type": "execute_result"
    }
   ],
   "source": [
    "agent.chat('Wich episodes were directed by Mary Kay Place?')\n"
   ]
  },
  {
   "cell_type": "code",
   "execution_count": 51,
   "metadata": {},
   "outputs": [
    {
     "data": {
      "text/html": [
       "<div>\n",
       "<style scoped>\n",
       "    .dataframe tbody tr th:only-of-type {\n",
       "        vertical-align: middle;\n",
       "    }\n",
       "\n",
       "    .dataframe tbody tr th {\n",
       "        vertical-align: top;\n",
       "    }\n",
       "\n",
       "    .dataframe thead th {\n",
       "        text-align: right;\n",
       "    }\n",
       "</style>\n",
       "<table border=\"1\" class=\"dataframe\">\n",
       "  <thead>\n",
       "    <tr style=\"text-align: right;\">\n",
       "      <th></th>\n",
       "      <th>Unnamed: 0</th>\n",
       "      <th>season</th>\n",
       "      <th>episode</th>\n",
       "      <th>title</th>\n",
       "      <th>directed_by</th>\n",
       "      <th>written_by</th>\n",
       "      <th>air_date</th>\n",
       "      <th>us_views_millions</th>\n",
       "      <th>imdb_rating</th>\n",
       "    </tr>\n",
       "  </thead>\n",
       "  <tbody>\n",
       "    <tr>\n",
       "      <th>31</th>\n",
       "      <td>32</td>\n",
       "      <td>2</td>\n",
       "      <td>8</td>\n",
       "      <td>The One with the List</td>\n",
       "      <td>Mary Kay Place</td>\n",
       "      <td>David Crane &amp; Marta Kauffman</td>\n",
       "      <td>1995-11-16</td>\n",
       "      <td>32.9</td>\n",
       "      <td>8.5</td>\n",
       "    </tr>\n",
       "  </tbody>\n",
       "</table>\n",
       "</div>"
      ],
      "text/plain": [
       "    Unnamed: 0  season  episode                  title     directed_by  \\\n",
       "31          32       2        8  The One with the List  Mary Kay Place   \n",
       "\n",
       "                      written_by    air_date  us_views_millions  imdb_rating  \n",
       "31  David Crane & Marta Kauffman  1995-11-16               32.9          8.5  "
      ]
     },
     "execution_count": 51,
     "metadata": {},
     "output_type": "execute_result"
    }
   ],
   "source": [
    "agent.chat('Wich episode was directed by Mary Kay Place?')\n"
   ]
  },
  {
   "cell_type": "code",
   "execution_count": 52,
   "metadata": {},
   "outputs": [
    {
     "data": {
      "text/html": [
       "<div>\n",
       "<style scoped>\n",
       "    .dataframe tbody tr th:only-of-type {\n",
       "        vertical-align: middle;\n",
       "    }\n",
       "\n",
       "    .dataframe tbody tr th {\n",
       "        vertical-align: top;\n",
       "    }\n",
       "\n",
       "    .dataframe thead th {\n",
       "        text-align: right;\n",
       "    }\n",
       "</style>\n",
       "<table border=\"1\" class=\"dataframe\">\n",
       "  <thead>\n",
       "    <tr style=\"text-align: right;\">\n",
       "      <th></th>\n",
       "      <th>Unnamed: 0</th>\n",
       "      <th>season</th>\n",
       "      <th>episode</th>\n",
       "      <th>title</th>\n",
       "      <th>directed_by</th>\n",
       "      <th>written_by</th>\n",
       "      <th>air_date</th>\n",
       "      <th>us_views_millions</th>\n",
       "      <th>imdb_rating</th>\n",
       "    </tr>\n",
       "  </thead>\n",
       "  <tbody>\n",
       "    <tr>\n",
       "      <th>35</th>\n",
       "      <td>36</td>\n",
       "      <td>2</td>\n",
       "      <td>12</td>\n",
       "      <td>The One After the Superbowl</td>\n",
       "      <td>Michael Lembeck</td>\n",
       "      <td>Jeffrey Astrof &amp; Mike SikowitzMichael Borkow</td>\n",
       "      <td>1996-01-28</td>\n",
       "      <td>52.9</td>\n",
       "      <td>8.6</td>\n",
       "    </tr>\n",
       "    <tr>\n",
       "      <th>36</th>\n",
       "      <td>37</td>\n",
       "      <td>2</td>\n",
       "      <td>13</td>\n",
       "      <td>The One After the Superbowl</td>\n",
       "      <td>Michael Lembeck</td>\n",
       "      <td>Jeffrey Astrof &amp; Mike SikowitzMichael Borkow</td>\n",
       "      <td>1996-01-28</td>\n",
       "      <td>52.9</td>\n",
       "      <td>8.8</td>\n",
       "    </tr>\n",
       "  </tbody>\n",
       "</table>\n",
       "</div>"
      ],
      "text/plain": [
       "    Unnamed: 0  season  episode                        title      directed_by  \\\n",
       "35          36       2       12  The One After the Superbowl  Michael Lembeck   \n",
       "36          37       2       13  The One After the Superbowl  Michael Lembeck   \n",
       "\n",
       "                                      written_by    air_date  \\\n",
       "35  Jeffrey Astrof & Mike SikowitzMichael Borkow  1996-01-28   \n",
       "36  Jeffrey Astrof & Mike SikowitzMichael Borkow  1996-01-28   \n",
       "\n",
       "    us_views_millions  imdb_rating  \n",
       "35               52.9          8.6  \n",
       "36               52.9          8.8  "
      ]
     },
     "execution_count": 52,
     "metadata": {},
     "output_type": "execute_result"
    }
   ],
   "source": [
    "agent.chat('Wich episodes has the most us_views_millions ?')\n"
   ]
  },
  {
   "cell_type": "code",
   "execution_count": 54,
   "metadata": {},
   "outputs": [
    {
     "data": {
      "text/plain": [
       "'The season with the highest average IMDb rating is Season 10.'"
      ]
     },
     "execution_count": 54,
     "metadata": {},
     "output_type": "execute_result"
    }
   ],
   "source": [
    "agent.chat('What season has the highter imdb_rating?')\n"
   ]
  },
  {
   "cell_type": "code",
   "execution_count": 55,
   "metadata": {},
   "outputs": [
    {
     "data": {
      "text/plain": [
       "'The season with the highest us_views_millions is Season 2.'"
      ]
     },
     "execution_count": 55,
     "metadata": {},
     "output_type": "execute_result"
    }
   ],
   "source": [
    "agent.chat('What season has the highter us_views_millions?')\n"
   ]
  },
  {
   "cell_type": "code",
   "execution_count": 60,
   "metadata": {},
   "outputs": [
    {
     "data": {
      "text/plain": [
       "season\n",
       "10    8.688889\n",
       "5     8.637500\n",
       "6     8.496000\n",
       "4     8.475000\n",
       "2     8.458333\n",
       "8     8.450000\n",
       "7     8.437500\n",
       "3     8.408000\n",
       "1     8.316667\n",
       "9     8.304167\n",
       "Name: imdb_rating, dtype: float64"
      ]
     },
     "execution_count": 60,
     "metadata": {},
     "output_type": "execute_result"
    }
   ],
   "source": [
    "df_info.groupby('season')['imdb_rating'].mean().sort_values(ascending=False)"
   ]
  },
  {
   "cell_type": "code",
   "execution_count": 61,
   "metadata": {},
   "outputs": [
    {
     "data": {
      "text/plain": [
       "season\n",
       "2     31.720833\n",
       "8     26.720417\n",
       "3     26.308000\n",
       "10    26.129444\n",
       "4     24.950000\n",
       "1     24.791667\n",
       "5     24.745833\n",
       "9     23.930417\n",
       "6     22.616000\n",
       "7     22.051250\n",
       "Name: us_views_millions, dtype: float64"
      ]
     },
     "execution_count": 61,
     "metadata": {},
     "output_type": "execute_result"
    }
   ],
   "source": [
    "df_info.groupby('season')['us_views_millions'].mean().sort_values(ascending=False)"
   ]
  },
  {
   "cell_type": "markdown",
   "metadata": {},
   "source": [
    "## Avaliando a base de dados dos personagens usando Pandas AI"
   ]
  },
  {
   "cell_type": "code",
   "execution_count": 62,
   "metadata": {},
   "outputs": [],
   "source": [
    "df_character = pd.read_csv('data/friends.csv')"
   ]
  },
  {
   "cell_type": "code",
   "execution_count": 63,
   "metadata": {},
   "outputs": [
    {
     "data": {
      "text/plain": [
       "Index(['Unnamed: 0', 'text', 'speaker', 'season', 'episode', 'scene',\n",
       "       'utterance'],\n",
       "      dtype='object')"
      ]
     },
     "execution_count": 63,
     "metadata": {},
     "output_type": "execute_result"
    }
   ],
   "source": [
    "df_character.columns"
   ]
  },
  {
   "cell_type": "code",
   "execution_count": 65,
   "metadata": {},
   "outputs": [],
   "source": [
    "agent = Agent(df_character)\n"
   ]
  },
  {
   "cell_type": "code",
   "execution_count": 66,
   "metadata": {},
   "outputs": [
    {
     "data": {
      "text/plain": [
       "'The speaker with the most text is: Rachel Green'"
      ]
     },
     "execution_count": 66,
     "metadata": {},
     "output_type": "execute_result"
    }
   ],
   "source": [
    "agent.chat('What speaker has the most text?')\n"
   ]
  },
  {
   "cell_type": "code",
   "execution_count": 67,
   "metadata": {},
   "outputs": [
    {
     "data": {
      "text/plain": [
       "'Speakers in the dataset: Monica Geller, Joey Tribbiani, Chandler Bing, Phoebe Buffay, Scene Directions, #ALL#, Ross Geller, Rachel Green, Waitress, Paul the Wine Guy, Priest On Tv, Franny, Customer, Marsha, Carol Willick, Judy Geller, Susan Bunch, Barry Farber, Robbie, Bernice, Dr. Oberman, Paula, Alan, The Guys, Lizzy, Guys, Leslie, Kiki, Joanne, Receptionist, Pizza Guy, Both, Kid, Angela Delveccio, Janice Litman Goralnik, Woman, Bob, Aurora, Director, Jill Goodacre, Mr. Heckles, Paolo, Shelley, Aunt Lillian, Nurse Sizemore, Andrea, Lowell, Terry, Guy, Girl, Max, David, Sandy, Bobby Rush, Dick Clark, Jay Leno, Nora Tyler Bing, Coma Guy, Phoebe\\'s Assistant, Roger, Joey Tribbiani Sr., Ronni Rapalono, Gloria Tribbiani, Lorraine, Kristin, Fireman No. 1, Fireman No. 2, Fireman No. 3, Mrs. Tedlock, Celia, Steve (drug addict), Ursula, Teacher, Helen, Nina Bookbinder, Mr. Douglas, Jamie, Frank Buffay Jr., Soothing Male Voice, Dr. Mitchell, Dr. Rosen, The Whole Party, Phoebe\\'s Friends, Aunt Iris, Intercom, Luisa Gianetti, Woman No. 1, Woman No. 2, Mindy Hunter, Danielle, Fake Monica, Dr. Baldhara, Announcement, Actor, Casting Director No. 1, Casting Director No. 2, Ethan, Gerston, Santos, Petrie, Dr. Franzblau, Lydia, Janitor, Melanie, Flight Attendant, Man, Carl (Rachel\\'s date), Julie, Paulo, Annabelle, Hombre Man, Store Guy, Mr. Treeger, Buddy Boyles, Alison, Stranger, Duncan, Old Woman, Jade, Waiter, Machine, Steven Fisher, Caroline, Doctor, Girl 1 On Bus, Girl 2 On Bus, Girl 1, Girl 2, Stephanie Schiffer, Transit Authority Guy, Together, Michael, Mr. Ratstatter, Radio, Gunther, Gang, Grandmother, Russ, Estelle Leonard, Mrs. Wallace, Sandra Green, Mr. Adelman, Minister, Rob, Erica Ford, Dean Lipson, Kids, Tv Doctor, Security Guard, Trainer, Director\\'s Assistant, Susie Moss, Jean-Claude Van Damme, Interviewer, Gail, Roy, Richard Burke, Delivery Guy, Friend, Joey\\'s Co-Star, Tattoo Artist, Producer, Eddie Menuek, Amber, Dr. Drake Ramoray, Tilly, Writer, Dr. Horton, Casting Guy, Mover, Ben Geller, Ernie, Big Bully, Little Bully, Mrs. Buffay, Leonard Green, Girl\\'s Voice, Scott Alexander, Ryan, Jeannie, Wedding Planner, Mr. Wineburg, Mrs. Wineburg, Best Man, Jack Geller, Woman\\'s Voice, Michelle Burke, Sherman Whitfield, Malcom, Host, Mike, Jasmine, Isabella Rosselini, Eric (photographer), Friend No. 1, Friend No. 2, Her Friends, Matress King, Student, Jester, Margha, Sarah Tuttle, Leader, Rachel\\'s Boss, Mr. Kaplan, Joey\\'s Sisters, Cookie Tribbiani, Sister 1, Joey\\'s Grandmother, Joey\\'s Sister, Mary-Angela, Mary-Theresa, Mark Robinson, Jeannine, Julio (poet), Quartet, The Bass Barber, Bass Singer, Clerk, Robert Bobby, Richard\\'s Date, Singer, Ginger, Lecturer, Commercial, Issac, Chloe, Mischa, Sophie, Sergei, The Girls, Alice Knight, Hypnosis Tape, Peter Becker, Secretary, Employee, The Director, Kate Miller, Spokeswoman, Joanna, Lauren, Anchorwoman, Hold Voice, Tommy, Cailin, Stage Manager, Vince, Jason, Dr. Rhodes, Dr. Johnson, Pete\\'s Mom, Fireman, Guru Saj, Billy, Robin Williams, Robin, Doug, Hoshi, Bonnie, Phil, Stevens, Announcer, Referee, Tv Announcer, Phoebe Abbott, Ursula Buffay, Chip Matthews, Tony, Peter, The Salesman, Oven, Gym Employee, Rick Sanoven, Bank Officer, Ms. Lambert, Mrs. Potter, Mr. Simon, Kathy, Joshua Burgin, Amanda (Ross\\' date), Cheryl, Mrs. Burkart, Casey, Voice, Nurse, Timothy Burke, Mr. Posner, Mrs. Lynch, Allesandro, Drew, A Waiter, The Waiter, The Conductor, The Woman From Poughkeepsie, Kitchen Worker, Woman On Train, Smart Kid, Tour Guide, Older Scientist, Another Tour Guide, Another Scientist, Dr. Zane, Kathy\\'s Co-Star, Stephen Waltham, Emily Waltham, The A.D, The Cigarette Smoking Guy, Charlton Heston, The Cigarette Guy, Devon, Liam, Ticket Counter Attendant, Mrs. Chatracus, The Doctor, Ticket Agent, Mrs. Burgin, Mr. Burgin, The Singing Man, The Saleslady, Sleep Clinic Worker, Marjorie, The Stripper, Dressmaker, The Vendor, Fergie, Housekeeper, Andrea Waltham, Felicity, Drunk Man, Passenger, Gate Agent, Air Hostess, Dave, Dr. Harad, Joey\\'s Doctor, Male Nurse, Dan, Delivery Room Nurse, Stage Director, Emeril, Pbs Volunteer, Gary Collins, Hotel Clerk, Danny, Health Inspector, Larry, Tom, The Housekeeper, The Paramedic, The Teacher, Cynthia, Dr. Ledbetter, A Female Student, The Man, Danny\\'s Sister, Krista, Elizabeth Hornswoggle, Kara, Frank Buffay Sr., The Pastor, The Casting Director, Katie, Steve Cera, Party Guests, Guest #1, Guest #2, Guest #3, The Smoking Woman, Cop, Gary, The Saleswoman, Gary\\'s Radio, The Old Man, The Little Girl, Mr. Zelner, The Hot Girl, Jen, Kim, Nancy, Kyle, Raymond, Delivery Girl, Caitlin, Grandma Tribbiani, Answering Machine, Dr. Miller, Stanley, The Grip, The Husband, A Casino Boss, A Tourist, The Croupier, The Flight Attendant, Blackjack Dealer, The Woman Dealer, Joey\\'s Hand Twin, A Drunken Gambler, Drunken Gambler, The Lurker, The Security Guard, The Attendant, Attendant, Croupler, Hitchhiker, Stephanie, Karin, Meg, Russell, The Potential Roommate, The Professor, Casting Director #1, Casting Director #2, Casting Director #3, A Crew Member, Alex, A Student, Guy #1, Guy #2, The Porsche Owner, Judge, Passerby, Janine Lecroix, Ralph Lauren, Hillary, Tall Guy, Patron, Customers, Jill Green, A Male Customer, The Fan, The Vampire, Man\\'s Voice, Another Man\\'s Voice, Same Man\\'s Voice, Monica\\'s Boyfriend, Guy All The Way In The Back, Dr. Wesley, Hope, Dr. Roger, Arthur, Jack, Joey\\'s Look-A-Like, Carl (Joey\\'s lookalike), The Instructor, Janice\\'s Voice, Burt, Elizabeth Stevens, Fireman #1, Dana Keystone, Fireman #2, Mel, Professor Feesen, Sebastian, Eldad, Patrick, The Producer, Wayne, C.H.E.E.S.E., Paul Stevens, The Dry Cleaner, The Museum Official, Female Clerk, Male Jeweler, Female Jeweler, Mr. Thompson, Zoe, Sarah, First Dorm Guy, Second Dorm Guy, Matire\\'D, Lisa, Emil Alexander, Mr. Bowmont, Narrator, Mac, Hilda, Tag Jones, Nurse #1, Nurse #2, Dr. Stryker Remoray, Melissa Warburton, The Photographer, The Cute Guy, Whitney, Julie Graff, Joey\\'s Date, Erin, Female Student, Male Student, The Waitress, The Colonel, The Librarian, The Head Librarian, The Knocker, The Woman, Maitre D\\', Male Guest, Salesman, The Wedding Guest, The Second Guest, Aunt Millie, Smoke Detector, A Disembodied Voice, The Fireman, Supervisor, Earl, The \"Hey Guy\" Guy, Marge, The Man In The Sportscar, Dina, Jessica Lockhart, Cecilia, The Writer, Fredrick, Matthew Perry, Lisa Kudrow, Kristen Leigh, Megan Bailey, A Woman, Lewis, Ned Morse, Jake, The Presenter, Jessica Ashley, Cassie Geller, The Other Woman, Waiter In Drag, Helena, Policeman, The Chorus Line, The Assistant Director, Charles Bing, The Rabbi, Photographer, Bandleader, Mona, Dennis Phillips, Little Girl, Second Girl, Ashley, Fat Girl, Gert, Front Desk Clerk, Woman At The Wedding, Man At The Wedding, Anxious Wedding Guest, Airline Employee, Dr. Long, Kristen, Tim, Mr. Franklin, Bob (Chandler\\'s coworker), Kash, Witch, Clown, Cowgirl, Ballerina, Eric, Boy In The Cape, Mrs. Verhoeven\\'s Daughter, Brenda, Stripper, Hooker, Stu, Will Colbert, Bobby Corso, Trudie Styler, Dr. Schiff, Locksmith, Man On Tv, Woman On Tv, Don, Waiter No. 2, Jim, Mona\\'s Date, Parker, Aunt Lisa, Uncle Dan, The Interviewer, Janine, Ray, Cashier, The Food Critic, The Cooking Teacher, Katie (saleswoman), The Acting Teacher, Julie Coreger, Marc Coreger, Evil Bitch, Sick Bastard, Woman Giving Birth, Cliff, Sid Goralnik, Ms. Mckenna, Mike Hannigan, Mary Ellen, Dr. Gettleman, Sally, Boy, Hayley, Hayley\\'s Roommate, Ken, Claudia, Waiters, Prospective Nanny, Catherine, Bitsy Hannigan, Theodore, Woman At Door, Amy Green, Jo Lynn, Bill, Kevin, Wendy, Others, Gavin Mitchell, Extra, Another Extra, Molly, Heather, Salon Girl, Sonia, Blonde Girl, Michelle, Her Friend, Steve, Waiter #2, Intern, Lennart, Producer #1, Lowell (mugger), Boss, Handyman, Strange Man, Manny, Kori, Racel, Message, Second Message, Olivia, Chase Lassiter, 1st Customer, Chandlers, Charlie Wheeler, Professor Spafford, Jane, Kyle Lowder, Matthew Ashford, Bitter Lady, Dirk, Bitter Woman, Doctor Connelly, Professor Sherman, Shop Assistant, Zack, Jeanette, Man With A Bow Tie, Alexandra Steele, Jarvis Oberblau, Paleontologist, Professore Clerk, Precious, Colleen, Owen, Assistant, Amanda Buffamonteezi, Glenda, Emma, Benjamin Hobart, Dr. Li, Dr. Biely, Charity Guy, Laura, Agency Guy, Erica, Adoption Agency Guy, Missy Goldberg, Donny Osmond, Gene, Henrietta, Adrienne, Mike\\'s Mother, Mike\\'s Father, Mike\\'s Mom, Mike\\'s Dad, Tape, Casting Assistant, Mr. Campbell, Realtor, Mackenzie, Rita, Lady, Jennifer Aniston, Gate Attendant #1, Passenger #1, Air Stewardess, Passenger #2, Passenger #3, Gate Attendant #2'"
      ]
     },
     "execution_count": 67,
     "metadata": {},
     "output_type": "execute_result"
    }
   ],
   "source": [
    "agent.chat('Wich speakers we have in dataset')\n"
   ]
  },
  {
   "cell_type": "code",
   "execution_count": 69,
   "metadata": {},
   "outputs": [
    {
     "data": {
      "text/plain": [
       "'The speaker that appears most in different scenes (excluding Scene Directions) is Rachel Green.'"
      ]
     },
     "execution_count": 69,
     "metadata": {},
     "output_type": "execute_result"
    }
   ],
   "source": [
    "agent.chat('Wich speakers appears most in different scenes? without Scene Directions')\n"
   ]
  },
  {
   "cell_type": "code",
   "execution_count": 77,
   "metadata": {},
   "outputs": [
    {
     "data": {
      "text/plain": [
       "'The speaker with the least text is: Woman Giving Birth'"
      ]
     },
     "execution_count": 77,
     "metadata": {},
     "output_type": "execute_result"
    }
   ],
   "source": [
    "agent.chat('Which speaker, between Rachel Green, Ross Geller, Monica Geller, Chandler Bing, Joey Tribbiani and Phoebe Buffay, has less text?')\n"
   ]
  },
  {
   "cell_type": "code",
   "execution_count": 78,
   "metadata": {},
   "outputs": [
    {
     "data": {
      "text/html": [
       "<div>\n",
       "<style scoped>\n",
       "    .dataframe tbody tr th:only-of-type {\n",
       "        vertical-align: middle;\n",
       "    }\n",
       "\n",
       "    .dataframe tbody tr th {\n",
       "        vertical-align: top;\n",
       "    }\n",
       "\n",
       "    .dataframe thead th {\n",
       "        text-align: right;\n",
       "    }\n",
       "</style>\n",
       "<table border=\"1\" class=\"dataframe\">\n",
       "  <thead>\n",
       "    <tr style=\"text-align: right;\">\n",
       "      <th></th>\n",
       "      <th>Unnamed: 0</th>\n",
       "      <th>text</th>\n",
       "      <th>speaker</th>\n",
       "      <th>season</th>\n",
       "      <th>episode</th>\n",
       "      <th>scene</th>\n",
       "      <th>utterance</th>\n",
       "    </tr>\n",
       "  </thead>\n",
       "  <tbody>\n",
       "    <tr>\n",
       "      <th>54926</th>\n",
       "      <td>54927</td>\n",
       "      <td>It's coming! It's coming!</td>\n",
       "      <td>Woman Giving Birth</td>\n",
       "      <td>8</td>\n",
       "      <td>24</td>\n",
       "      <td>1</td>\n",
       "      <td>12</td>\n",
       "    </tr>\n",
       "  </tbody>\n",
       "</table>\n",
       "</div>"
      ],
      "text/plain": [
       "       Unnamed: 0                       text             speaker  season  \\\n",
       "54926       54927  It's coming! It's coming!  Woman Giving Birth       8   \n",
       "\n",
       "       episode  scene  utterance  \n",
       "54926       24      1         12  "
      ]
     },
     "execution_count": 78,
     "metadata": {},
     "output_type": "execute_result"
    }
   ],
   "source": [
    "df_character[df_character['speaker']=='Woman Giving Birth']"
   ]
  },
  {
   "cell_type": "code",
   "execution_count": null,
   "metadata": {},
   "outputs": [],
   "source": []
  }
 ],
 "metadata": {
  "kernelspec": {
   "display_name": "env_pandas_ai",
   "language": "python",
   "name": "python3"
  },
  "language_info": {
   "codemirror_mode": {
    "name": "ipython",
    "version": 3
   },
   "file_extension": ".py",
   "mimetype": "text/x-python",
   "name": "python",
   "nbconvert_exporter": "python",
   "pygments_lexer": "ipython3",
   "version": "3.12.3"
  }
 },
 "nbformat": 4,
 "nbformat_minor": 2
}
